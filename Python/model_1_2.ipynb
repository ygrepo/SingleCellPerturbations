{
 "cells": [
  {
   "cell_type": "code",
   "execution_count": 1,
   "id": "bec561ab-3856-4020-8494-83deb9891060",
   "metadata": {
    "tags": []
   },
   "outputs": [],
   "source": [
    "import time\n",
    "import numpy as np # linear algebra\n",
    "import pandas as pd # data processing, CSV file I/O (e.g. pd.read_csv)\n",
    "import matplotlib.pyplot as plt\n",
    "import seaborn as sns\n",
    "\n",
    "from sklearn.decomposition import PCA\n",
    "from sklearn.decomposition import FastICA\n",
    "from sklearn.decomposition import TruncatedSVD\n",
    "from sklearn.linear_model import Ridge\n",
    "from sklearn.model_selection import KFold\n",
    "from sklearn.metrics import r2_score\n",
    "from sklearn.metrics import mean_squared_error\n",
    "from sklearn.multioutput import MultiOutputRegressor\n",
    "from sklearn.svm import SVR\n",
    "from sklearn.svm import SVR\n",
    "from sklearn.pipeline import make_pipeline\n",
    "from sklearn.preprocessing import StandardScaler\n",
    "\n",
    "# import lightgbm as lgb"
   ]
  },
  {
   "cell_type": "code",
   "execution_count": 2,
   "id": "6b1c4b8e-6c38-460e-8395-288ab293e9b5",
   "metadata": {
    "tags": []
   },
   "outputs": [
    {
     "data": {
      "text/html": [
       "<div>\n",
       "<style scoped>\n",
       "    .dataframe tbody tr th:only-of-type {\n",
       "        vertical-align: middle;\n",
       "    }\n",
       "\n",
       "    .dataframe tbody tr th {\n",
       "        vertical-align: top;\n",
       "    }\n",
       "\n",
       "    .dataframe thead th {\n",
       "        text-align: right;\n",
       "    }\n",
       "</style>\n",
       "<table border=\"1\" class=\"dataframe\">\n",
       "  <thead>\n",
       "    <tr style=\"text-align: right;\">\n",
       "      <th></th>\n",
       "      <th>cell_type</th>\n",
       "      <th>sm_name</th>\n",
       "      <th>sm_lincs_id</th>\n",
       "      <th>SMILES</th>\n",
       "      <th>control</th>\n",
       "      <th>A1BG</th>\n",
       "      <th>A1BG-AS1</th>\n",
       "      <th>A2M</th>\n",
       "      <th>A2M-AS1</th>\n",
       "      <th>A2MP1</th>\n",
       "      <th>...</th>\n",
       "      <th>ZUP1</th>\n",
       "      <th>ZW10</th>\n",
       "      <th>ZWILCH</th>\n",
       "      <th>ZWINT</th>\n",
       "      <th>ZXDA</th>\n",
       "      <th>ZXDB</th>\n",
       "      <th>ZXDC</th>\n",
       "      <th>ZYG11B</th>\n",
       "      <th>ZYX</th>\n",
       "      <th>ZZEF1</th>\n",
       "    </tr>\n",
       "  </thead>\n",
       "  <tbody>\n",
       "    <tr>\n",
       "      <th>0</th>\n",
       "      <td>NK cells</td>\n",
       "      <td>Clotrimazole</td>\n",
       "      <td>LSM-5341</td>\n",
       "      <td>Clc1ccccc1C(c1ccccc1)(c1ccccc1)n1ccnc1</td>\n",
       "      <td>False</td>\n",
       "      <td>0.104720</td>\n",
       "      <td>-0.077524</td>\n",
       "      <td>-1.625596</td>\n",
       "      <td>-0.144545</td>\n",
       "      <td>0.143555</td>\n",
       "      <td>...</td>\n",
       "      <td>-0.227781</td>\n",
       "      <td>-0.010752</td>\n",
       "      <td>-0.023881</td>\n",
       "      <td>0.674536</td>\n",
       "      <td>-0.453068</td>\n",
       "      <td>0.005164</td>\n",
       "      <td>-0.094959</td>\n",
       "      <td>0.034127</td>\n",
       "      <td>0.221377</td>\n",
       "      <td>0.368755</td>\n",
       "    </tr>\n",
       "    <tr>\n",
       "      <th>1</th>\n",
       "      <td>T cells CD4+</td>\n",
       "      <td>Clotrimazole</td>\n",
       "      <td>LSM-5341</td>\n",
       "      <td>Clc1ccccc1C(c1ccccc1)(c1ccccc1)n1ccnc1</td>\n",
       "      <td>False</td>\n",
       "      <td>0.915953</td>\n",
       "      <td>-0.884380</td>\n",
       "      <td>0.371834</td>\n",
       "      <td>-0.081677</td>\n",
       "      <td>-0.498266</td>\n",
       "      <td>...</td>\n",
       "      <td>-0.494985</td>\n",
       "      <td>-0.303419</td>\n",
       "      <td>0.304955</td>\n",
       "      <td>-0.333905</td>\n",
       "      <td>-0.315516</td>\n",
       "      <td>-0.369626</td>\n",
       "      <td>-0.095079</td>\n",
       "      <td>0.704780</td>\n",
       "      <td>1.096702</td>\n",
       "      <td>-0.869887</td>\n",
       "    </tr>\n",
       "  </tbody>\n",
       "</table>\n",
       "<p>2 rows × 18216 columns</p>\n",
       "</div>"
      ],
      "text/plain": [
       "      cell_type       sm_name sm_lincs_id  \\\n",
       "0      NK cells  Clotrimazole    LSM-5341   \n",
       "1  T cells CD4+  Clotrimazole    LSM-5341   \n",
       "\n",
       "                                   SMILES  control      A1BG  A1BG-AS1  \\\n",
       "0  Clc1ccccc1C(c1ccccc1)(c1ccccc1)n1ccnc1    False  0.104720 -0.077524   \n",
       "1  Clc1ccccc1C(c1ccccc1)(c1ccccc1)n1ccnc1    False  0.915953 -0.884380   \n",
       "\n",
       "        A2M   A2M-AS1     A2MP1  ...      ZUP1      ZW10    ZWILCH     ZWINT  \\\n",
       "0 -1.625596 -0.144545  0.143555  ... -0.227781 -0.010752 -0.023881  0.674536   \n",
       "1  0.371834 -0.081677 -0.498266  ... -0.494985 -0.303419  0.304955 -0.333905   \n",
       "\n",
       "       ZXDA      ZXDB      ZXDC    ZYG11B       ZYX     ZZEF1  \n",
       "0 -0.453068  0.005164 -0.094959  0.034127  0.221377  0.368755  \n",
       "1 -0.315516 -0.369626 -0.095079  0.704780  1.096702 -0.869887  \n",
       "\n",
       "[2 rows x 18216 columns]"
      ]
     },
     "execution_count": 2,
     "metadata": {},
     "output_type": "execute_result"
    }
   ],
   "source": [
    "path = \"../data/de_train.parquet\"\n",
    "train_df = pd.read_parquet(path,engine=\"pyarrow\")\n",
    "train_df.head(2)"
   ]
  },
  {
   "cell_type": "code",
   "execution_count": 3,
   "id": "fea206f8-c1a3-492c-a509-9522aef2e3af",
   "metadata": {
    "tags": []
   },
   "outputs": [
    {
     "name": "stdout",
     "output_type": "stream",
     "text": [
      "(255, 3)\n"
     ]
    }
   ],
   "source": [
    "path = '../data/id_map.csv'\n",
    "df_id_map = pd.read_csv(path)\n",
    "print(df_id_map.shape)"
   ]
  },
  {
   "cell_type": "code",
   "execution_count": 4,
   "id": "849ff64a-e156-4f71-b4ae-7067162b86f7",
   "metadata": {
    "tags": []
   },
   "outputs": [
    {
     "data": {
      "text/html": [
       "<div>\n",
       "<style scoped>\n",
       "    .dataframe tbody tr th:only-of-type {\n",
       "        vertical-align: middle;\n",
       "    }\n",
       "\n",
       "    .dataframe tbody tr th {\n",
       "        vertical-align: top;\n",
       "    }\n",
       "\n",
       "    .dataframe thead th {\n",
       "        text-align: right;\n",
       "    }\n",
       "</style>\n",
       "<table border=\"1\" class=\"dataframe\">\n",
       "  <thead>\n",
       "    <tr style=\"text-align: right;\">\n",
       "      <th></th>\n",
       "      <th>id</th>\n",
       "      <th>cell_type</th>\n",
       "      <th>sm_name</th>\n",
       "    </tr>\n",
       "  </thead>\n",
       "  <tbody>\n",
       "    <tr>\n",
       "      <th>0</th>\n",
       "      <td>0</td>\n",
       "      <td>B cells</td>\n",
       "      <td>5-(9-Isopropyl-8-methyl-2-morpholino-9H-purin-...</td>\n",
       "    </tr>\n",
       "    <tr>\n",
       "      <th>1</th>\n",
       "      <td>1</td>\n",
       "      <td>B cells</td>\n",
       "      <td>ABT-199 (GDC-0199)</td>\n",
       "    </tr>\n",
       "  </tbody>\n",
       "</table>\n",
       "</div>"
      ],
      "text/plain": [
       "   id cell_type                                            sm_name\n",
       "0   0   B cells  5-(9-Isopropyl-8-methyl-2-morpholino-9H-purin-...\n",
       "1   1   B cells                                 ABT-199 (GDC-0199)"
      ]
     },
     "execution_count": 4,
     "metadata": {},
     "output_type": "execute_result"
    }
   ],
   "source": [
    "df_id_map.head(2)"
   ]
  },
  {
   "cell_type": "code",
   "execution_count": 5,
   "id": "e2b68f8e-da80-4b30-9433-ef0236253b42",
   "metadata": {
    "tags": []
   },
   "outputs": [
    {
     "name": "stdout",
     "output_type": "stream",
     "text": [
      "TSVD TruncatedSVD(n_components=35, n_iter=7, random_state=42)\n"
     ]
    }
   ],
   "source": [
    "n_components = 35\n",
    "n_components_for_compound_encoding = 20\n",
    "\n",
    "\n",
    "# predict_method = 'train_aggregation_by_compounds'\n",
    "# predict_method = 'train_aggregation_by_compounds_with_denoising_pca'\n",
    "# predict_method = 'train_aggregation_by_compounds_with_denoising_ICA'\n",
    "predict_method = 'train_aggregation_by_compounds_with_denoising_TSVD'\n",
    "\n",
    "if '_pca' in predict_method:\n",
    "    str_inf_target_dimred = 'PCA' \n",
    "    reducer = PCA(n_components=n_components )\n",
    "elif '_ICA' in predict_method:\n",
    "    str_inf_target_dimred = 'ICA' \n",
    "#     reducer = PCA(n_components=n_components )\n",
    "    reducer = FastICA(n_components=n_components, random_state=0, whiten='unit-variance')\n",
    "elif '_TSVD' in predict_method:\n",
    "    str_inf_target_dimred = 'TSVD' \n",
    "#     reducer = PCA(n_components=n_components )\n",
    "#     reducer = FastICA(n_components=n_components, random_state=0, whiten='unit-variance')\n",
    "    reducer = TruncatedSVD(n_components=n_components, n_iter=7, random_state=42)\n",
    "else:\n",
    "    str_inf_target_dimred = ''\n",
    "    \n",
    "print(str_inf_target_dimred, reducer)"
   ]
  },
  {
   "cell_type": "code",
   "execution_count": 6,
   "id": "21019ff1-21e0-4c3e-839e-bed37bddaf47",
   "metadata": {
    "tags": []
   },
   "outputs": [],
   "source": [
    "Y = train_df.iloc[:,5:].values\n",
    "Yr = reducer.fit_transform(Y)"
   ]
  },
  {
   "cell_type": "code",
   "execution_count": 7,
   "id": "d9ed2a96-11a1-440b-85a2-bbff01d1dce8",
   "metadata": {
    "tags": []
   },
   "outputs": [
    {
     "data": {
      "text/plain": [
       "(614, 18216)"
      ]
     },
     "execution_count": 7,
     "metadata": {},
     "output_type": "execute_result"
    }
   ],
   "source": [
    "train_df.shape"
   ]
  },
  {
   "cell_type": "code",
   "execution_count": 8,
   "id": "824974d4-eeb8-4c2d-ae17-7f1b3afc06a4",
   "metadata": {
    "tags": []
   },
   "outputs": [
    {
     "data": {
      "text/plain": [
       "(614, 35)"
      ]
     },
     "execution_count": 8,
     "metadata": {},
     "output_type": "execute_result"
    }
   ],
   "source": [
    "Yr.shape"
   ]
  },
  {
   "cell_type": "code",
   "execution_count": 9,
   "id": "f6976bc6-c142-4cb6-a845-db4118c703f3",
   "metadata": {
    "tags": []
   },
   "outputs": [
    {
     "data": {
      "text/plain": [
       "array([[ 2.89373825e+01,  3.25693174e+00, -2.17718795e+00, ...,\n",
       "         1.71697383e+00,  2.43747294e+00,  1.17374369e+00],\n",
       "       [ 9.34854576e+00,  8.66256211e+00, -2.06019648e+00, ...,\n",
       "         9.57226672e-01,  4.68278086e+00, -3.77149246e+00],\n",
       "       [-3.58110979e+01,  6.78206995e+00, -4.38171568e+00, ...,\n",
       "         2.03040417e+00, -1.03710292e+00, -3.52523495e+00],\n",
       "       ...,\n",
       "       [-5.03158567e+00,  6.43942181e+00, -2.87129303e-04, ...,\n",
       "         4.14887610e+00,  5.19326099e+00, -3.74356351e-01],\n",
       "       [-5.28922641e+01,  7.50236438e+00, -2.89089984e+00, ...,\n",
       "         1.12076210e+00,  1.74396997e+00, -1.35842003e+00],\n",
       "       [-6.67468860e+01,  8.28862864e+00, -4.76962697e+00, ...,\n",
       "        -5.42812517e+00,  2.95258313e+00, -2.17275842e+00]])"
      ]
     },
     "execution_count": 9,
     "metadata": {},
     "output_type": "execute_result"
    }
   ],
   "source": [
    "Yr[:, :n_components_for_compound_encoding]"
   ]
  },
  {
   "cell_type": "code",
   "execution_count": 10,
   "id": "5209083d-69b9-4903-bd19-87fbef284aa4",
   "metadata": {
    "tags": []
   },
   "outputs": [
    {
     "data": {
      "text/html": [
       "<div>\n",
       "<style scoped>\n",
       "    .dataframe tbody tr th:only-of-type {\n",
       "        vertical-align: middle;\n",
       "    }\n",
       "\n",
       "    .dataframe tbody tr th {\n",
       "        vertical-align: top;\n",
       "    }\n",
       "\n",
       "    .dataframe thead th {\n",
       "        text-align: right;\n",
       "    }\n",
       "</style>\n",
       "<table border=\"1\" class=\"dataframe\">\n",
       "  <thead>\n",
       "    <tr style=\"text-align: right;\">\n",
       "      <th></th>\n",
       "      <th>0</th>\n",
       "      <th>1</th>\n",
       "      <th>2</th>\n",
       "      <th>3</th>\n",
       "      <th>4</th>\n",
       "      <th>5</th>\n",
       "      <th>6</th>\n",
       "      <th>7</th>\n",
       "      <th>8</th>\n",
       "      <th>9</th>\n",
       "      <th>...</th>\n",
       "      <th>11</th>\n",
       "      <th>12</th>\n",
       "      <th>13</th>\n",
       "      <th>14</th>\n",
       "      <th>15</th>\n",
       "      <th>16</th>\n",
       "      <th>17</th>\n",
       "      <th>18</th>\n",
       "      <th>19</th>\n",
       "      <th>column for aggregation</th>\n",
       "    </tr>\n",
       "  </thead>\n",
       "  <tbody>\n",
       "    <tr>\n",
       "      <th>0</th>\n",
       "      <td>28.937383</td>\n",
       "      <td>3.256932</td>\n",
       "      <td>-2.177188</td>\n",
       "      <td>0.468545</td>\n",
       "      <td>-5.621313</td>\n",
       "      <td>4.551657</td>\n",
       "      <td>0.579008</td>\n",
       "      <td>-1.745717</td>\n",
       "      <td>-0.093655</td>\n",
       "      <td>-5.538261</td>\n",
       "      <td>...</td>\n",
       "      <td>1.484589</td>\n",
       "      <td>1.648768</td>\n",
       "      <td>-1.687988</td>\n",
       "      <td>-0.827857</td>\n",
       "      <td>0.020230</td>\n",
       "      <td>-3.380221</td>\n",
       "      <td>1.716974</td>\n",
       "      <td>2.437473</td>\n",
       "      <td>1.173744</td>\n",
       "      <td>Clotrimazole</td>\n",
       "    </tr>\n",
       "    <tr>\n",
       "      <th>1</th>\n",
       "      <td>9.348546</td>\n",
       "      <td>8.662562</td>\n",
       "      <td>-2.060196</td>\n",
       "      <td>0.569955</td>\n",
       "      <td>-2.757469</td>\n",
       "      <td>5.832881</td>\n",
       "      <td>-3.394118</td>\n",
       "      <td>-3.942866</td>\n",
       "      <td>0.464306</td>\n",
       "      <td>-5.546544</td>\n",
       "      <td>...</td>\n",
       "      <td>-3.477309</td>\n",
       "      <td>0.317478</td>\n",
       "      <td>-1.808493</td>\n",
       "      <td>-0.951530</td>\n",
       "      <td>-0.743172</td>\n",
       "      <td>-4.011046</td>\n",
       "      <td>0.957227</td>\n",
       "      <td>4.682781</td>\n",
       "      <td>-3.771492</td>\n",
       "      <td>Clotrimazole</td>\n",
       "    </tr>\n",
       "  </tbody>\n",
       "</table>\n",
       "<p>2 rows × 21 columns</p>\n",
       "</div>"
      ],
      "text/plain": [
       "           0         1         2         3         4         5         6  \\\n",
       "0  28.937383  3.256932 -2.177188  0.468545 -5.621313  4.551657  0.579008   \n",
       "1   9.348546  8.662562 -2.060196  0.569955 -2.757469  5.832881 -3.394118   \n",
       "\n",
       "          7         8         9  ...        11        12        13        14  \\\n",
       "0 -1.745717 -0.093655 -5.538261  ...  1.484589  1.648768 -1.687988 -0.827857   \n",
       "1 -3.942866  0.464306 -5.546544  ... -3.477309  0.317478 -1.808493 -0.951530   \n",
       "\n",
       "         15        16        17        18        19  column for aggregation  \n",
       "0  0.020230 -3.380221  1.716974  2.437473  1.173744            Clotrimazole  \n",
       "1 -0.743172 -4.011046  0.957227  4.682781 -3.771492            Clotrimazole  \n",
       "\n",
       "[2 rows x 21 columns]"
      ]
     },
     "execution_count": 10,
     "metadata": {},
     "output_type": "execute_result"
    }
   ],
   "source": [
    "df_tmp = pd.DataFrame(Yr[:, :n_components_for_compound_encoding], index = train_df.index  )\n",
    "df_tmp['column for aggregation'] = train_df['sm_name']\n",
    "df_tmp.head(2)"
   ]
  },
  {
   "cell_type": "code",
   "execution_count": 11,
   "id": "2d93d336-5d57-4254-a7b3-d9c0341cfe2a",
   "metadata": {
    "tags": []
   },
   "outputs": [
    {
     "name": "stdout",
     "output_type": "stream",
     "text": [
      "df_compound_encoded.shape (146, 20)\n"
     ]
    }
   ],
   "source": [
    "df_compound_encoded = df_tmp.groupby('column for aggregation').mean() # quantile( quantile )\n",
    "print('df_compound_encoded.shape', df_compound_encoded.shape )"
   ]
  },
  {
   "cell_type": "code",
   "execution_count": 12,
   "id": "e384da5a-2e86-4464-9bc9-e798b0c84535",
   "metadata": {
    "tags": []
   },
   "outputs": [
    {
     "data": {
      "text/html": [
       "<div>\n",
       "<style scoped>\n",
       "    .dataframe tbody tr th:only-of-type {\n",
       "        vertical-align: middle;\n",
       "    }\n",
       "\n",
       "    .dataframe tbody tr th {\n",
       "        vertical-align: top;\n",
       "    }\n",
       "\n",
       "    .dataframe thead th {\n",
       "        text-align: right;\n",
       "    }\n",
       "</style>\n",
       "<table border=\"1\" class=\"dataframe\">\n",
       "  <thead>\n",
       "    <tr style=\"text-align: right;\">\n",
       "      <th></th>\n",
       "      <th>0</th>\n",
       "      <th>1</th>\n",
       "      <th>2</th>\n",
       "      <th>3</th>\n",
       "      <th>4</th>\n",
       "      <th>5</th>\n",
       "      <th>6</th>\n",
       "      <th>7</th>\n",
       "      <th>8</th>\n",
       "      <th>9</th>\n",
       "      <th>10</th>\n",
       "      <th>11</th>\n",
       "      <th>12</th>\n",
       "      <th>13</th>\n",
       "      <th>14</th>\n",
       "      <th>15</th>\n",
       "      <th>16</th>\n",
       "      <th>17</th>\n",
       "      <th>18</th>\n",
       "      <th>19</th>\n",
       "    </tr>\n",
       "    <tr>\n",
       "      <th>column for aggregation</th>\n",
       "      <th></th>\n",
       "      <th></th>\n",
       "      <th></th>\n",
       "      <th></th>\n",
       "      <th></th>\n",
       "      <th></th>\n",
       "      <th></th>\n",
       "      <th></th>\n",
       "      <th></th>\n",
       "      <th></th>\n",
       "      <th></th>\n",
       "      <th></th>\n",
       "      <th></th>\n",
       "      <th></th>\n",
       "      <th></th>\n",
       "      <th></th>\n",
       "      <th></th>\n",
       "      <th></th>\n",
       "      <th></th>\n",
       "      <th></th>\n",
       "    </tr>\n",
       "  </thead>\n",
       "  <tbody>\n",
       "    <tr>\n",
       "      <th>5-(9-Isopropyl-8-methyl-2-morpholino-9H-purin-6-yl)pyrimidin-2-amine</th>\n",
       "      <td>63.586319</td>\n",
       "      <td>-1.465497</td>\n",
       "      <td>-0.562572</td>\n",
       "      <td>-1.732934</td>\n",
       "      <td>20.996600</td>\n",
       "      <td>34.568289</td>\n",
       "      <td>-6.739745</td>\n",
       "      <td>-3.576149</td>\n",
       "      <td>0.356735</td>\n",
       "      <td>-25.661156</td>\n",
       "      <td>-2.904752</td>\n",
       "      <td>-4.330203</td>\n",
       "      <td>14.512692</td>\n",
       "      <td>2.759831</td>\n",
       "      <td>-0.440801</td>\n",
       "      <td>-1.129141</td>\n",
       "      <td>-3.808963</td>\n",
       "      <td>12.068773</td>\n",
       "      <td>10.358412</td>\n",
       "      <td>-1.580439</td>\n",
       "    </tr>\n",
       "    <tr>\n",
       "      <th>ABT-199 (GDC-0199)</th>\n",
       "      <td>21.006970</td>\n",
       "      <td>1.129267</td>\n",
       "      <td>0.303375</td>\n",
       "      <td>-3.547908</td>\n",
       "      <td>-2.140733</td>\n",
       "      <td>-5.492110</td>\n",
       "      <td>2.184463</td>\n",
       "      <td>-0.790178</td>\n",
       "      <td>-0.359174</td>\n",
       "      <td>0.998044</td>\n",
       "      <td>0.166214</td>\n",
       "      <td>-0.462383</td>\n",
       "      <td>-1.396626</td>\n",
       "      <td>2.500967</td>\n",
       "      <td>-1.491096</td>\n",
       "      <td>-1.264126</td>\n",
       "      <td>1.647789</td>\n",
       "      <td>2.790226</td>\n",
       "      <td>1.024438</td>\n",
       "      <td>-0.689964</td>\n",
       "    </tr>\n",
       "  </tbody>\n",
       "</table>\n",
       "</div>"
      ],
      "text/plain": [
       "                                                            0         1  \\\n",
       "column for aggregation                                                    \n",
       "5-(9-Isopropyl-8-methyl-2-morpholino-9H-purin-6...  63.586319 -1.465497   \n",
       "ABT-199 (GDC-0199)                                  21.006970  1.129267   \n",
       "\n",
       "                                                           2         3  \\\n",
       "column for aggregation                                                   \n",
       "5-(9-Isopropyl-8-methyl-2-morpholino-9H-purin-6... -0.562572 -1.732934   \n",
       "ABT-199 (GDC-0199)                                  0.303375 -3.547908   \n",
       "\n",
       "                                                            4          5  \\\n",
       "column for aggregation                                                     \n",
       "5-(9-Isopropyl-8-methyl-2-morpholino-9H-purin-6...  20.996600  34.568289   \n",
       "ABT-199 (GDC-0199)                                  -2.140733  -5.492110   \n",
       "\n",
       "                                                           6         7  \\\n",
       "column for aggregation                                                   \n",
       "5-(9-Isopropyl-8-methyl-2-morpholino-9H-purin-6... -6.739745 -3.576149   \n",
       "ABT-199 (GDC-0199)                                  2.184463 -0.790178   \n",
       "\n",
       "                                                           8          9  \\\n",
       "column for aggregation                                                    \n",
       "5-(9-Isopropyl-8-methyl-2-morpholino-9H-purin-6...  0.356735 -25.661156   \n",
       "ABT-199 (GDC-0199)                                 -0.359174   0.998044   \n",
       "\n",
       "                                                          10        11  \\\n",
       "column for aggregation                                                   \n",
       "5-(9-Isopropyl-8-methyl-2-morpholino-9H-purin-6... -2.904752 -4.330203   \n",
       "ABT-199 (GDC-0199)                                  0.166214 -0.462383   \n",
       "\n",
       "                                                           12        13  \\\n",
       "column for aggregation                                                    \n",
       "5-(9-Isopropyl-8-methyl-2-morpholino-9H-purin-6...  14.512692  2.759831   \n",
       "ABT-199 (GDC-0199)                                  -1.396626  2.500967   \n",
       "\n",
       "                                                          14        15  \\\n",
       "column for aggregation                                                   \n",
       "5-(9-Isopropyl-8-methyl-2-morpholino-9H-purin-6... -0.440801 -1.129141   \n",
       "ABT-199 (GDC-0199)                                 -1.491096 -1.264126   \n",
       "\n",
       "                                                          16         17  \\\n",
       "column for aggregation                                                    \n",
       "5-(9-Isopropyl-8-methyl-2-morpholino-9H-purin-6... -3.808963  12.068773   \n",
       "ABT-199 (GDC-0199)                                  1.647789   2.790226   \n",
       "\n",
       "                                                           18        19  \n",
       "column for aggregation                                                   \n",
       "5-(9-Isopropyl-8-methyl-2-morpholino-9H-purin-6...  10.358412 -1.580439  \n",
       "ABT-199 (GDC-0199)                                   1.024438 -0.689964  "
      ]
     },
     "execution_count": 12,
     "metadata": {},
     "output_type": "execute_result"
    }
   ],
   "source": [
    "df_compound_encoded.head(2)"
   ]
  },
  {
   "cell_type": "code",
   "execution_count": 13,
   "id": "bf7d8b54-6ecf-4d0f-a0ef-a04725fe1bb5",
   "metadata": {
    "tags": []
   },
   "outputs": [
    {
     "name": "stdout",
     "output_type": "stream",
     "text": [
      "(614, 20)\n"
     ]
    }
   ],
   "source": [
    "X = pd.DataFrame(index = train_df['sm_name']) # \n",
    "X['IX'] = np.arange(len(train_df))\n",
    "X = X.join( df_compound_encoded , how = 'left').sort_values('IX')\n",
    "X = X.iloc[:,1:]\n",
    "X = X.values \n",
    "print( X.shape )\n",
    "#X.head(3)"
   ]
  },
  {
   "cell_type": "code",
   "execution_count": 14,
   "id": "054cd1e9-dd5b-4288-a89c-55478010ce7c",
   "metadata": {},
   "outputs": [
    {
     "name": "stdout",
     "output_type": "stream",
     "text": [
      "(255, 20)\n"
     ]
    }
   ],
   "source": [
    "X_submit = pd.DataFrame(index = df_id_map['sm_name']) # \n",
    "X_submit['IX'] = np.arange(len(X_submit))\n",
    "X_submit = X_submit.join( df_compound_encoded , how = 'left').sort_values('IX')\n",
    "X_submit = X_submit.iloc[:,1:]\n",
    "X_submit = X_submit.values \n",
    "print( X_submit.shape )"
   ]
  },
  {
   "cell_type": "code",
   "execution_count": 15,
   "id": "a7cce125-8442-4ef6-885e-132ce618d4e1",
   "metadata": {
    "tags": []
   },
   "outputs": [
    {
     "data": {
      "text/html": [
       "<div>\n",
       "<style scoped>\n",
       "    .dataframe tbody tr th:only-of-type {\n",
       "        vertical-align: middle;\n",
       "    }\n",
       "\n",
       "    .dataframe tbody tr th {\n",
       "        vertical-align: top;\n",
       "    }\n",
       "\n",
       "    .dataframe thead th {\n",
       "        text-align: right;\n",
       "    }\n",
       "</style>\n",
       "<table border=\"1\" class=\"dataframe\">\n",
       "  <thead>\n",
       "    <tr style=\"text-align: right;\">\n",
       "      <th></th>\n",
       "      <th>cell_type</th>\n",
       "      <th>sm_name</th>\n",
       "      <th>sm_lincs_id</th>\n",
       "      <th>SMILES</th>\n",
       "      <th>control</th>\n",
       "      <th>A1BG</th>\n",
       "      <th>A1BG-AS1</th>\n",
       "      <th>A2M</th>\n",
       "      <th>A2M-AS1</th>\n",
       "      <th>A2MP1</th>\n",
       "      <th>...</th>\n",
       "      <th>ZUP1</th>\n",
       "      <th>ZW10</th>\n",
       "      <th>ZWILCH</th>\n",
       "      <th>ZWINT</th>\n",
       "      <th>ZXDA</th>\n",
       "      <th>ZXDB</th>\n",
       "      <th>ZXDC</th>\n",
       "      <th>ZYG11B</th>\n",
       "      <th>ZYX</th>\n",
       "      <th>ZZEF1</th>\n",
       "    </tr>\n",
       "  </thead>\n",
       "  <tbody>\n",
       "    <tr>\n",
       "      <th>0</th>\n",
       "      <td>NK cells</td>\n",
       "      <td>Clotrimazole</td>\n",
       "      <td>LSM-5341</td>\n",
       "      <td>Clc1ccccc1C(c1ccccc1)(c1ccccc1)n1ccnc1</td>\n",
       "      <td>False</td>\n",
       "      <td>0.104720</td>\n",
       "      <td>-0.077524</td>\n",
       "      <td>-1.625596</td>\n",
       "      <td>-0.144545</td>\n",
       "      <td>0.143555</td>\n",
       "      <td>...</td>\n",
       "      <td>-0.227781</td>\n",
       "      <td>-0.010752</td>\n",
       "      <td>-0.023881</td>\n",
       "      <td>0.674536</td>\n",
       "      <td>-0.453068</td>\n",
       "      <td>0.005164</td>\n",
       "      <td>-0.094959</td>\n",
       "      <td>0.034127</td>\n",
       "      <td>0.221377</td>\n",
       "      <td>0.368755</td>\n",
       "    </tr>\n",
       "    <tr>\n",
       "      <th>1</th>\n",
       "      <td>T cells CD4+</td>\n",
       "      <td>Clotrimazole</td>\n",
       "      <td>LSM-5341</td>\n",
       "      <td>Clc1ccccc1C(c1ccccc1)(c1ccccc1)n1ccnc1</td>\n",
       "      <td>False</td>\n",
       "      <td>0.915953</td>\n",
       "      <td>-0.884380</td>\n",
       "      <td>0.371834</td>\n",
       "      <td>-0.081677</td>\n",
       "      <td>-0.498266</td>\n",
       "      <td>...</td>\n",
       "      <td>-0.494985</td>\n",
       "      <td>-0.303419</td>\n",
       "      <td>0.304955</td>\n",
       "      <td>-0.333905</td>\n",
       "      <td>-0.315516</td>\n",
       "      <td>-0.369626</td>\n",
       "      <td>-0.095079</td>\n",
       "      <td>0.704780</td>\n",
       "      <td>1.096702</td>\n",
       "      <td>-0.869887</td>\n",
       "    </tr>\n",
       "    <tr>\n",
       "      <th>2</th>\n",
       "      <td>T cells CD8+</td>\n",
       "      <td>Clotrimazole</td>\n",
       "      <td>LSM-5341</td>\n",
       "      <td>Clc1ccccc1C(c1ccccc1)(c1ccccc1)n1ccnc1</td>\n",
       "      <td>False</td>\n",
       "      <td>-0.387721</td>\n",
       "      <td>-0.305378</td>\n",
       "      <td>0.567777</td>\n",
       "      <td>0.303895</td>\n",
       "      <td>-0.022653</td>\n",
       "      <td>...</td>\n",
       "      <td>-0.119422</td>\n",
       "      <td>-0.033608</td>\n",
       "      <td>-0.153123</td>\n",
       "      <td>0.183597</td>\n",
       "      <td>-0.555678</td>\n",
       "      <td>-1.494789</td>\n",
       "      <td>-0.213550</td>\n",
       "      <td>0.415768</td>\n",
       "      <td>0.078439</td>\n",
       "      <td>-0.259365</td>\n",
       "    </tr>\n",
       "  </tbody>\n",
       "</table>\n",
       "<p>3 rows × 18216 columns</p>\n",
       "</div>"
      ],
      "text/plain": [
       "      cell_type       sm_name sm_lincs_id  \\\n",
       "0      NK cells  Clotrimazole    LSM-5341   \n",
       "1  T cells CD4+  Clotrimazole    LSM-5341   \n",
       "2  T cells CD8+  Clotrimazole    LSM-5341   \n",
       "\n",
       "                                   SMILES  control      A1BG  A1BG-AS1  \\\n",
       "0  Clc1ccccc1C(c1ccccc1)(c1ccccc1)n1ccnc1    False  0.104720 -0.077524   \n",
       "1  Clc1ccccc1C(c1ccccc1)(c1ccccc1)n1ccnc1    False  0.915953 -0.884380   \n",
       "2  Clc1ccccc1C(c1ccccc1)(c1ccccc1)n1ccnc1    False -0.387721 -0.305378   \n",
       "\n",
       "        A2M   A2M-AS1     A2MP1  ...      ZUP1      ZW10    ZWILCH     ZWINT  \\\n",
       "0 -1.625596 -0.144545  0.143555  ... -0.227781 -0.010752 -0.023881  0.674536   \n",
       "1  0.371834 -0.081677 -0.498266  ... -0.494985 -0.303419  0.304955 -0.333905   \n",
       "2  0.567777  0.303895 -0.022653  ... -0.119422 -0.033608 -0.153123  0.183597   \n",
       "\n",
       "       ZXDA      ZXDB      ZXDC    ZYG11B       ZYX     ZZEF1  \n",
       "0 -0.453068  0.005164 -0.094959  0.034127  0.221377  0.368755  \n",
       "1 -0.315516 -0.369626 -0.095079  0.704780  1.096702 -0.869887  \n",
       "2 -0.555678 -1.494789 -0.213550  0.415768  0.078439 -0.259365  \n",
       "\n",
       "[3 rows x 18216 columns]"
      ]
     },
     "execution_count": 15,
     "metadata": {},
     "output_type": "execute_result"
    }
   ],
   "source": [
    "train_df.head(3)"
   ]
  },
  {
   "cell_type": "code",
   "execution_count": 27,
   "id": "38fe01dd-0592-4fec-a9fb-e1b466e03764",
   "metadata": {
    "tags": []
   },
   "outputs": [
    {
     "data": {
      "text/plain": [
       "Index(['NK cells', 'T cells CD4+', 'T cells CD8+', 'T regulatory cells'], dtype='object', name='cell_type')"
      ]
     },
     "execution_count": 27,
     "metadata": {},
     "output_type": "execute_result"
    }
   ],
   "source": [
    "genes = train_df.columns[5:] # 18211 genes\n",
    "temp = train_df.groupby(['cell_type']).size() > 20\n",
    "validation_cell_types = temp[temp].index # 4 cell types\n",
    "validation_cell_types"
   ]
  },
  {
   "cell_type": "code",
   "execution_count": 34,
   "id": "bbcfa605-91bc-4fdd-9767-7b5aedee5110",
   "metadata": {
    "tags": []
   },
   "outputs": [],
   "source": [
    "train_sm_names = train_df.query(\"cell_type == 'B cells'\").sm_name.values # 17 compounds including the two control compounds\n",
    "\n",
    "features = ['cell_type', 'sm_name']\n",
    "\n",
    "def cross_val_svd(model, label, n_components=5):\n",
    "    mrrmse_list = []\n",
    "    for fold, val_cell_type in enumerate(validation_cell_types):\n",
    "        mask_va = (train_df.cell_type == val_cell_type) & \\\n",
    "            ~train_df.sm_name.isin(train_sm_names)\n",
    "        mask_tr = ~mask_va # 485 or 487 training rows\n",
    "        \n",
    "        train = train_df[mask_tr]\n",
    "        val = train_df[mask_va]\n",
    "        y_true = val[genes]\n",
    "        \n",
    "        svd = TruncatedSVD(n_components=n_components, random_state=1)\n",
    "        z_tr = svd.fit_transform(train[genes])\n",
    "        print(train[features])\n",
    "        model.fit(train[features], z_tr)\n",
    "        y_pred = svd.inverse_transform(model.predict(val[features]))\n",
    "        \n",
    "        mrrmse = np.sqrt(np.square(y_true - y_pred).mean(axis=1)).mean()\n",
    "        print(f\"# Fold {fold}: {mrrmse:5.3f} val='{val_cell_type}'\")\n",
    "        mrrmse_list.append(mrrmse)\n",
    "    mrrmse = np.array(mrrmse_list).mean()\n",
    "    print(f\"# Overall {mrrmse:5.3f} {label}\")\n",
    "    return"
   ]
  },
  {
   "cell_type": "code",
   "execution_count": 36,
   "id": "3564e9f3-cb43-4005-aa1b-260bdaad42b2",
   "metadata": {
    "tags": []
   },
   "outputs": [],
   "source": [
    "model =  MultiOutputRegressor( make_pipeline(StandardScaler(), SVR(C=20, epsilon=0.3, kernel = 'linear' ) ) )\n",
    "#cross_val_svd(model, 'LABEL',n_components=n_components)"
   ]
  },
  {
   "cell_type": "code",
   "execution_count": 37,
   "id": "0dde7984-175b-4e2c-9736-a76fc42fed3c",
   "metadata": {},
   "outputs": [
    {
     "name": "stdout",
     "output_type": "stream",
     "text": [
      "(614, 20)\n",
      "Fold 0: 307\n",
      "[[ 14.79796212   4.21953585  -1.74883442 ...   1.15631244   1.60635239\n",
      "   -2.00377306]\n",
      " [ 75.953835    12.82768496   4.79327079 ...  95.12559209  35.74021811\n",
      "  -29.66366746]\n",
      " [ 33.08062697   0.32728429  -7.85582797 ...   3.05723302   3.39977004\n",
      "   -0.1253318 ]\n",
      " ...\n",
      " [ -6.26769079   0.45515642  -1.67035554 ...   0.78078761   1.86036041\n",
      "   -1.13810841]\n",
      " [-27.4267271    5.62066525  -1.72503153 ...   0.70573366   3.33026952\n",
      "   -1.01651906]\n",
      " [-27.4267271    5.62066525  -1.72503153 ...   0.70573366   3.33026952\n",
      "   -1.01651906]]\n",
      "r2 test: 0.04486505380880883\n",
      "r2 train 0.21193333043478044\n",
      "Fold 1: 307\n",
      "[[ 14.79796212   4.21953585  -1.74883442 ...   1.15631244   1.60635239\n",
      "   -2.00377306]\n",
      " [ 14.79796212   4.21953585  -1.74883442 ...   1.15631244   1.60635239\n",
      "   -2.00377306]\n",
      " [ 14.79796212   4.21953585  -1.74883442 ...   1.15631244   1.60635239\n",
      "   -2.00377306]\n",
      " ...\n",
      " [ -6.26769079   0.45515642  -1.67035554 ...   0.78078761   1.86036041\n",
      "   -1.13810841]\n",
      " [-27.4267271    5.62066525  -1.72503153 ...   0.70573366   3.33026952\n",
      "   -1.01651906]\n",
      " [-27.4267271    5.62066525  -1.72503153 ...   0.70573366   3.33026952\n",
      "   -1.01651906]]\n",
      "r2 test: 0.015900175394891778\n",
      "r2 train 0.21775727573293788\n"
     ]
    },
    {
     "ename": "NameError",
     "evalue": "name 'Y_oof' is not defined",
     "output_type": "error",
     "traceback": [
      "\u001b[0;31m---------------------------------------------------------------------------\u001b[0m",
      "\u001b[0;31mNameError\u001b[0m                                 Traceback (most recent call last)",
      "Cell \u001b[0;32mIn[37], line 56\u001b[0m\n\u001b[1;32m     50\u001b[0m     Y_submit \u001b[38;5;241m=\u001b[39m  (Y_submit \u001b[38;5;241m*\u001b[39m cnt_blend_submit \u001b[38;5;241m+\u001b[39m reducer\u001b[38;5;241m.\u001b[39minverse_transform(model\u001b[38;5;241m.\u001b[39mpredict(X_submit))) \u001b[38;5;241m/\u001b[39m \\\n\u001b[1;32m     51\u001b[0m     ( cnt_blend_submit \u001b[38;5;241m+\u001b[39m \u001b[38;5;241m1\u001b[39m)\n\u001b[1;32m     53\u001b[0m     cnt_blend_submit \u001b[38;5;241m+\u001b[39m\u001b[38;5;241m=\u001b[39m \u001b[38;5;241m1\u001b[39m\n\u001b[0;32m---> 56\u001b[0m s \u001b[38;5;241m=\u001b[39m mean_squared_error(Y,\u001b[43mY_oof\u001b[49m, squared \u001b[38;5;241m=\u001b[39m \u001b[38;5;28;01mFalse\u001b[39;00m)\n\u001b[1;32m     57\u001b[0m \u001b[38;5;28mprint\u001b[39m(s)\n",
      "\u001b[0;31mNameError\u001b[0m: name 'Y_oof' is not defined"
     ]
    }
   ],
   "source": [
    "n_splits = 2\n",
    "kf = KFold(n_splits=n_splits, random_state = 42, shuffle = True )\n",
    "IX = pd.DataFrame(); IX['IX'] = range(len(train_df))\n",
    "\n",
    "alpha_regularization_for_linear_models = 100000\n",
    "model = Ridge(alpha=alpha_regularization_for_linear_models)\n",
    "\n",
    "params = {\n",
    "    'num_leaves': 5,\n",
    "    'learning_rate': 0.1,\n",
    "    'verbose': -1,\n",
    "    'num_boost_round': 20,    # Number of boosting iterations (trees)\n",
    "}\n",
    "\n",
    "# model = MultiOutputRegressor( lgb.LGBMRegressor( **params) )\n",
    "model =  MultiOutputRegressor( make_pipeline(StandardScaler(), SVR(C=20, epsilon=0.3, kernel = 'linear' ) ) )\n",
    "\n",
    "\n",
    "Y = train_df.iloc[:,5:].values\n",
    "\n",
    "Y_reduced_submit = np.zeros( (len(df_id_map) , Yr.shape[1] )   ); \n",
    "cnt_blend_submit = 0\n",
    "Y_submit = np.zeros( (len(df_id_map) , 18211 )   ); \n",
    "cnt_blend_submit = 0\n",
    "\n",
    "print(X.shape)\n",
    "for i, (train_index, test_index) in enumerate(kf.split(IX)):\n",
    "    print(f\"Fold {i}:\", len(test_index) )\n",
    "    # print(f\"  Train: index={train_index}\")\n",
    "    # print(f\"  Test:  index={test_index}\")\n",
    "    \n",
    "    Yr_train = reducer.fit_transform(Y[train_index,:])\n",
    "    X_train = X[train_index,:]\n",
    "    print(X_train)\n",
    "    model.fit(X_train, Yr_train)\n",
    "    \n",
    "    Yr_test = reducer.transform(Y[test_index,:])\n",
    "    X_test = X[test_index,:]\n",
    "    Yr_pred = model.predict(X_test) # , Yr_train)\n",
    "    r2 = r2_score(Yr_test,  Yr_pred )\n",
    "    print('r2 test:', r2)\n",
    " \n",
    "    r2_test = r2    \n",
    "    \n",
    "    Yr_pred = model.predict(X_train) # , Yr_train)\n",
    "    r2 = r2_score(Yr_train,  Yr_pred )\n",
    "    print('r2 train', r2)\n",
    "    \n",
    "\n",
    "    Y_submit =  (Y_submit * cnt_blend_submit + reducer.inverse_transform(model.predict(X_submit))) / \\\n",
    "    ( cnt_blend_submit + 1)\n",
    "    \n",
    "    cnt_blend_submit += 1\n",
    "    \n",
    "    \n",
    "s = mean_squared_error(Y,Y_oof, squared = False)\n",
    "print(s)"
   ]
  },
  {
   "cell_type": "code",
   "execution_count": null,
   "id": "1212e543-2045-40f9-87da-1e6ab3d6bb0f",
   "metadata": {
    "tags": []
   },
   "outputs": [],
   "source": [
    "Y_submit.shape"
   ]
  },
  {
   "cell_type": "code",
   "execution_count": null,
   "id": "ca84200f-6d1f-4ab7-b78d-9a077c3d6700",
   "metadata": {},
   "outputs": [],
   "source": [
    "df_submit = pd.DataFrame(Y_submit, columns = train_df.columns[5:])\n",
    "df_submit.index.name = 'id'\n",
    "print( df_submit.shape )\n",
    "display(df_submit)\n",
    "df_submit.to_csv('submission.csv')"
   ]
  },
  {
   "cell_type": "code",
   "execution_count": null,
   "id": "1c85ed80-15bf-47dc-a90d-875bc43ab8bf",
   "metadata": {},
   "outputs": [],
   "source": []
  }
 ],
 "metadata": {
  "kernelspec": {
   "display_name": "general_39",
   "language": "python",
   "name": "general_39"
  },
  "language_info": {
   "codemirror_mode": {
    "name": "ipython",
    "version": 3
   },
   "file_extension": ".py",
   "mimetype": "text/x-python",
   "name": "python",
   "nbconvert_exporter": "python",
   "pygments_lexer": "ipython3",
   "version": "3.9.7"
  }
 },
 "nbformat": 4,
 "nbformat_minor": 5
}
