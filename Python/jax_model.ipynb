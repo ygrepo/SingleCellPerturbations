{
 "cells": [
  {
   "cell_type": "code",
   "execution_count": 1,
   "id": "7cf68319-8b78-4491-bd71-ff70bb986a9c",
   "metadata": {},
   "outputs": [
    {
     "name": "stderr",
     "output_type": "stream",
     "text": [
      "/Users/yvesgreatti/venv/general_39/lib/python3.9/site-packages/scipy/__init__.py:155: UserWarning: A NumPy version >=1.18.5 and <1.26.0 is required for this version of SciPy (detected version 1.26.1\n",
      "  warnings.warn(f\"A NumPy version >={np_minversion} and <{np_maxversion}\"\n"
     ]
    }
   ],
   "source": [
    "import jax\n",
    "import flax\n",
    "import pandas as pd\n",
    "from pathlib import Path\n",
    "from jax import numpy as jnp\n",
    "from jax import random\n",
    "from flax import linen as nn\n",
    "import optax\n",
    "from flax.training import train_state"
   ]
  },
  {
   "cell_type": "code",
   "execution_count": null,
   "id": "5cbace42-25f2-41bc-a396-e7d3f559cf24",
   "metadata": {},
   "outputs": [],
   "source": []
  }
 ],
 "metadata": {
  "kernelspec": {
   "display_name": "general_39",
   "language": "python",
   "name": "general_39"
  },
  "language_info": {
   "codemirror_mode": {
    "name": "ipython",
    "version": 3
   },
   "file_extension": ".py",
   "mimetype": "text/x-python",
   "name": "python",
   "nbconvert_exporter": "python",
   "pygments_lexer": "ipython3",
   "version": "3.9.7"
  }
 },
 "nbformat": 4,
 "nbformat_minor": 5
}
