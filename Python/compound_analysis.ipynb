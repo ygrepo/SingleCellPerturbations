{
 "cells": [
  {
   "cell_type": "code",
   "execution_count": null,
   "id": "5a5fb2c4-b34e-4650-a918-da066a0c6900",
   "metadata": {},
   "outputs": [],
   "source": []
  }
 ],
 "metadata": {
  "kernelspec": {
   "display_name": "general_39",
   "language": "python",
   "name": "general_39"
  },
  "language_info": {
   "codemirror_mode": {
    "name": "ipython",
    "version": 3
   },
   "file_extension": ".py",
   "mimetype": "text/x-python",
   "name": "python",
   "nbconvert_exporter": "python",
   "pygments_lexer": "ipython3",
   "version": "3.9.7"
  }
 },
 "nbformat": 4,
 "nbformat_minor": 5
}
